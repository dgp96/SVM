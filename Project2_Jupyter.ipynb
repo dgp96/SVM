{
 "cells": [
  {
   "cell_type": "code",
   "execution_count": 1,
   "metadata": {},
   "outputs": [],
   "source": [
    "from libsvm.svmutil import *\n",
    "import scipy.io\n",
    "train_data = scipy.io.loadmat(\"trainData.mat\")\n",
    "test_data = scipy.io.loadmat(\"testData.mat\")"
   ]
  },
  {
   "cell_type": "code",
   "execution_count": 2,
   "metadata": {},
   "outputs": [],
   "source": [
    "x1_train = train_data['X1']\n",
    "x2_train = train_data['X2']\n",
    "x3_train = train_data['X3']\n",
    "y_train_flatten = train_data['Y'].flatten()\n",
    "\n",
    "x1_test = test_data['X1']\n",
    "x2_test = test_data['X2']\n",
    "x3_test = test_data['X3']\n",
    "y_test_flatten = test_data['Y'].flatten()"
   ]
  },
  {
   "cell_type": "code",
   "execution_count": 4,
   "metadata": {},
   "outputs": [],
   "source": [
    "#prob = svm_problem(y_train_flatten,x1_train)\n",
    "param = svm_parameter('-c 10 -t 0')\n",
    "model_step0_que1_case1 = svm_train(y_train_flatten,x1_train, '-c 10 -t 0')\n",
    "model_step0_que1_case2 = svm_train(y_train_flatten,x2_train, '-c 10 -t 0')\n",
    "model_step0_que1_case3 = svm_train(y_train_flatten,x3_train, '-c 10 -t 0')"
   ]
  },
  {
   "cell_type": "code",
   "execution_count": 6,
   "metadata": {},
   "outputs": [
    {
     "name": "stdout",
     "output_type": "stream",
     "text": [
      "Accuracy = 11.3648% (214/1883) (classification)\n",
      "Accuracy = 17.5252% (330/1883) (classification)\n",
      "Accuracy = 8.60329% (162/1883) (classification)\n"
     ]
    }
   ],
   "source": [
    "p_label_step0_que1_case1, p_acc_step0_que1_case1, p_val_step0_que1_case1 = svm_predict(y_test_flatten,x1_test, model_step0_que1_case1)\n",
    "p_label_step0_que1_case2, p_acc_step0_que1_case2, p_val_step0_que1_case2 = svm_predict(y_test_flatten,x2_test, model_step0_que1_case2)\n",
    "p_label_step0_que1_case3, p_acc_step0_que1_case3, p_val_step0_que1_case3 = svm_predict(y_test_flatten,x3_test, model_step0_que1_case3)"
   ]
  },
  {
   "cell_type": "code",
   "execution_count": 7,
   "metadata": {},
   "outputs": [],
   "source": [
    "model_step0_que2_case1 = svm_train(y_train_flatten,x1_train, '-c 10 -t 0 -b 1')\n",
    "model_step0_que2_case2 = svm_train(y_train_flatten,x2_train, '-c 10 -t 0 -b 1')\n",
    "model_step0_que2_case3 = svm_train(y_train_flatten,x3_train, '-c 10 -t 0 -b 1')"
   ]
  },
  {
   "cell_type": "code",
   "execution_count": 8,
   "metadata": {},
   "outputs": [
    {
     "name": "stdout",
     "output_type": "stream",
     "text": [
      "Accuracy = 28.0935% (529/1883) (classification)\n",
      "Accuracy = 28.4652% (536/1883) (classification)\n",
      "Accuracy = 29.2618% (551/1883) (classification)\n"
     ]
    }
   ],
   "source": [
    "p_label_step0_que2_case1, p_acc_step0_que2_case1, p_val_step0_que2_case1 = svm_predict(y_test_flatten,x1_test, model_step0_que2_case1,'-b 1')\n",
    "p_label_step0_que2_case2, p_acc_step0_que2_case1, p_val_step0_que2_case2 = svm_predict(y_test_flatten,x2_test, model_step0_que2_case2,'-b 1')\n",
    "p_label_step0_que2_case3, p_acc_step0_que2_case1, p_val_step0_que2_case3 = svm_predict(y_test_flatten,x3_test, model_step0_que2_case3,'-b 1')"
   ]
  },
  {
   "cell_type": "code",
   "execution_count": 56,
   "metadata": {},
   "outputs": [
    {
     "name": "stdout",
     "output_type": "stream",
     "text": [
      "1883\n",
      "50\n"
     ]
    },
    {
     "data": {
      "text/plain": [
       "[11, 11, 44, 11, 44, 44, 21, 45, 7, 7]"
      ]
     },
     "execution_count": 56,
     "metadata": {},
     "output_type": "execute_result"
    }
   ],
   "source": [
    "import numpy as np\n",
    "length1 = len(p_val_step0_que2_case1)\n",
    "length2 = len(p_val_step0_que2_case1[0])\n",
    "print(length1)\n",
    "print(length2)\n",
    "predicted_class = []\n",
    "for i in range(length1):\n",
    "    avg=[]\n",
    "    for j in range(length2):\n",
    "        avg.append((p_val_step0_que2_case1[i][j]+p_val_step0_que2_case2[i][j]+p_val_step0_que2_case3[i][j])/3)\n",
    "    max_class = np.argmax(avg)\n",
    "    predicted_class.append(max_class+1)\n",
    "predicted_class[:10]\n",
    "        "
   ]
  },
  {
   "cell_type": "code",
   "execution_count": 57,
   "metadata": {},
   "outputs": [],
   "source": [
    "correct = 0\n",
    "for i in range(len(predicted_class)):\n",
    "    if predicted_class[i] == y_test_flatten[i]:\n",
    "        correct+=1\n",
    "   "
   ]
  },
  {
   "cell_type": "code",
   "execution_count": 58,
   "metadata": {},
   "outputs": [
    {
     "name": "stdout",
     "output_type": "stream",
     "text": [
      "Accuracy: 45.671800318640464\n"
     ]
    }
   ],
   "source": [
    "print(\"Accuracy: \"+str((correct/len(predicted_class))*100))"
   ]
  },
  {
   "cell_type": "code",
   "execution_count": 48,
   "metadata": {},
   "outputs": [],
   "source": [
    "svm_save_model('model_step0_que1_case1',model_step0_que1_case1)\n",
    "svm_save_model('model_step0_que1_case2',model_step0_que1_case2)\n",
    "svm_save_model('model_step0_que1_case3',model_step0_que1_case3)\n",
    "\n",
    "svm_save_model('model_step0_que2_case1',model_step0_que2_case1)\n",
    "svm_save_model('model_step0_que2_case2',model_step0_que2_case2)\n",
    "svm_save_model('model_step0_que2_case3',model_step0_que2_case3)\n"
   ]
  },
  {
   "cell_type": "code",
   "execution_count": 11,
   "metadata": {},
   "outputs": [],
   "source": [
    "#model = svm_load_model(file_name)\n",
    "concat_train_x = np.concatenate((x1_train,x2_train,x3_train),axis=1)\n",
    "concat_test_x = np.concatenate((x1_test,x2_test,x3_test),axis=1)"
   ]
  },
  {
   "cell_type": "code",
   "execution_count": 50,
   "metadata": {},
   "outputs": [],
   "source": [
    "model_step2 = svm_train(y_train_flatten,concat_train_x, '-c 10 -t 0')"
   ]
  },
  {
   "cell_type": "code",
   "execution_count": 55,
   "metadata": {},
   "outputs": [],
   "source": [
    "svm_save_model('model_step2',model_step2)"
   ]
  },
  {
   "cell_type": "code",
   "execution_count": 53,
   "metadata": {},
   "outputs": [
    {
     "name": "stdout",
     "output_type": "stream",
     "text": [
      "Accuracy = 39.1928% (738/1883) (classification)\n"
     ]
    }
   ],
   "source": [
    "p_label_step2, p_acc_step2, p_val_step2 = svm_predict(y_test_flatten,concat_test_x, model_step2)"
   ]
  },
  {
   "cell_type": "code",
   "execution_count": 4,
   "metadata": {},
   "outputs": [],
   "source": [
    "model_step0_que1_case1 = svm_load_model('model_step0_que1_case1')\n",
    "model_step0_que1_case2 = svm_load_model('model_step0_que1_case2')\n",
    "model_step0_que1_case3 = svm_load_model('model_step0_que1_case3')\n",
    "\n",
    "model_step0_que2_case1 = svm_load_model('model_step0_que2_case1')\n",
    "model_step0_que2_case2 = svm_load_model('model_step0_que2_case2')\n",
    "model_step0_que2_case3 = svm_load_model('model_step0_que2_case3')"
   ]
  },
  {
   "cell_type": "code",
   "execution_count": 5,
   "metadata": {},
   "outputs": [],
   "source": [
    "model_step2 = svm_load_model('model_step2')"
   ]
  },
  {
   "cell_type": "code",
   "execution_count": 6,
   "metadata": {},
   "outputs": [
    {
     "name": "stdout",
     "output_type": "stream",
     "text": [
      "Accuracy = 11.3648% (214/1883) (classification)\n",
      "Accuracy = 17.5252% (330/1883) (classification)\n",
      "Accuracy = 8.60329% (162/1883) (classification)\n"
     ]
    }
   ],
   "source": [
    "p_label_step0_que1_case1, p_acc_step0_que1_case1, p_val_step0_que1_case1 = svm_predict(y_test_flatten,x1_test, model_step0_que1_case1)\n",
    "p_label_step0_que1_case2, p_acc_step0_que1_case2, p_val_step0_que1_case2 = svm_predict(y_test_flatten,x2_test, model_step0_que1_case2)\n",
    "p_label_step0_que1_case3, p_acc_step0_que1_case3, p_val_step0_que1_case3 = svm_predict(y_test_flatten,x3_test, model_step0_que1_case3)"
   ]
  },
  {
   "cell_type": "code",
   "execution_count": 7,
   "metadata": {},
   "outputs": [
    {
     "name": "stdout",
     "output_type": "stream",
     "text": [
      "Accuracy = 28.0935% (529/1883) (classification)\n",
      "Accuracy = 28.4652% (536/1883) (classification)\n",
      "Accuracy = 29.2618% (551/1883) (classification)\n"
     ]
    }
   ],
   "source": [
    "p_label_step0_que2_case1, p_acc_step0_que2_case1, p_val_step0_que2_case1 = svm_predict(y_test_flatten,x1_test, model_step0_que2_case1,'-b 1')\n",
    "p_label_step0_que2_case2, p_acc_step0_que2_case1, p_val_step0_que2_case2 = svm_predict(y_test_flatten,x2_test, model_step0_que2_case2,'-b 1')\n",
    "p_label_step0_que2_case3, p_acc_step0_que2_case1, p_val_step0_que2_case3 = svm_predict(y_test_flatten,x3_test, model_step0_que2_case3,'-b 1')"
   ]
  },
  {
   "cell_type": "code",
   "execution_count": 8,
   "metadata": {},
   "outputs": [
    {
     "name": "stdout",
     "output_type": "stream",
     "text": [
      "1883\n",
      "50\n"
     ]
    },
    {
     "data": {
      "text/plain": [
       "[11, 11, 44, 11, 44, 44, 21, 45, 7, 7]"
      ]
     },
     "execution_count": 8,
     "metadata": {},
     "output_type": "execute_result"
    }
   ],
   "source": [
    "import numpy as np\n",
    "length1 = len(p_val_step0_que2_case1)\n",
    "length2 = len(p_val_step0_que2_case1[0])\n",
    "print(length1)\n",
    "print(length2)\n",
    "predicted_class = []\n",
    "for i in range(length1):\n",
    "    avg=[]\n",
    "    for j in range(length2):\n",
    "        avg.append((p_val_step0_que2_case1[i][j]+p_val_step0_que2_case2[i][j]+p_val_step0_que2_case3[i][j])/3)\n",
    "    max_class = np.argmax(avg)\n",
    "    predicted_class.append(max_class+1)\n",
    "predicted_class[:10]"
   ]
  },
  {
   "cell_type": "code",
   "execution_count": 9,
   "metadata": {},
   "outputs": [
    {
     "name": "stdout",
     "output_type": "stream",
     "text": [
      "Accuracy: 45.671800318640464\n"
     ]
    }
   ],
   "source": [
    "correct = 0\n",
    "for i in range(len(predicted_class)):\n",
    "    if predicted_class[i] == y_test_flatten[i]:\n",
    "        correct+=1\n",
    "print(\"Accuracy: \"+str((correct/len(predicted_class))*100))"
   ]
  },
  {
   "cell_type": "code",
   "execution_count": 12,
   "metadata": {},
   "outputs": [
    {
     "name": "stdout",
     "output_type": "stream",
     "text": [
      "Accuracy = 39.1928% (738/1883) (classification)\n"
     ]
    }
   ],
   "source": [
    "p_label_step2, p_acc_step2, p_val_step2 = svm_predict(y_test_flatten,concat_test_x, model_step2)"
   ]
  },
  {
   "cell_type": "code",
   "execution_count": null,
   "metadata": {},
   "outputs": [],
   "source": []
  }
 ],
 "metadata": {
  "kernelspec": {
   "display_name": "Python 3",
   "language": "python",
   "name": "python3"
  },
  "language_info": {
   "codemirror_mode": {
    "name": "ipython",
    "version": 3
   },
   "file_extension": ".py",
   "mimetype": "text/x-python",
   "name": "python",
   "nbconvert_exporter": "python",
   "pygments_lexer": "ipython3",
   "version": "3.7.4"
  }
 },
 "nbformat": 4,
 "nbformat_minor": 4
}
